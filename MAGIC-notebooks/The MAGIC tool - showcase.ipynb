{
 "cells": [
  {
   "cell_type": "markdown",
   "metadata": {
    "id": "5BUrX821Qlzx"
   },
   "source": [
    "The MAGIC (**M**isclassification **A**nalysis by **G**raphic **I**nduction-Tree **C**lassifier) tool utilizes the explainable and graphical characteristics of a tree for misclassification analysis.\n",
    "\n",
    "The tool is useful for cases in which:\n",
    "* Samples of two different classes reside in proximity to each other so their boundaries are blurred or overlap.\n",
    "* The misclassified samples belong to a subclass with hidden characteristics (known as Hidden Stratification).\n",
    "* Samples with the same or almost similar attributes are labeled differently.\n",
    "\n",
    "In this notebook I will present the tool's capabilities by examining the classification results for samples that answer (or do not answer) the following closed formula: $a \\cap b \\cup c$ (the formula will simulate some unknown classifier).\n",
    "\n",
    "At the end of the notebook, I'll briefly demonstrate the tool's capabilities using a real-world example."
   ]
  },
  {
   "cell_type": "markdown",
   "metadata": {
    "id": "PzRPhYQKRbiI"
   },
   "source": [
    "# Train-Set Creation"
   ]
  },
  {
   "cell_type": "markdown",
   "metadata": {
    "id": "qOROFELTSIRo"
   },
   "source": [
    "First, we'll create a train-set that represents the above formula completely:"
   ]
  },
  {
   "cell_type": "code",
   "execution_count": 1,
   "metadata": {
    "id": "0bZjWqY1Y6a-"
   },
   "outputs": [],
   "source": [
    "func = lambda row: row[0] & row[1] | row[2]"
   ]
  },
  {
   "cell_type": "code",
   "execution_count": 2,
   "metadata": {
    "colab": {
     "base_uri": "https://localhost:8080/",
     "height": 318
    },
    "executionInfo": {
     "elapsed": 21,
     "status": "ok",
     "timestamp": 1673019929301,
     "user": {
      "displayName": "maor hornstein",
      "userId": "17964089756049892790"
     },
     "user_tz": -120
    },
    "id": "eLZQ-f2TYWr2",
    "outputId": "a8cd4c68-5837-47fd-dabc-467d2cd8a375"
   },
   "outputs": [
    {
     "name": "stdout",
     "output_type": "stream",
     "text": [
      "The train set is:\n"
     ]
    },
    {
     "data": {
      "text/html": [
       "<div>\n",
       "<style scoped>\n",
       "    .dataframe tbody tr th:only-of-type {\n",
       "        vertical-align: middle;\n",
       "    }\n",
       "\n",
       "    .dataframe tbody tr th {\n",
       "        vertical-align: top;\n",
       "    }\n",
       "\n",
       "    .dataframe thead th {\n",
       "        text-align: right;\n",
       "    }\n",
       "</style>\n",
       "<table border=\"1\" class=\"dataframe\">\n",
       "  <thead>\n",
       "    <tr style=\"text-align: right;\">\n",
       "      <th></th>\n",
       "      <th>a</th>\n",
       "      <th>b</th>\n",
       "      <th>c</th>\n",
       "      <th>class</th>\n",
       "    </tr>\n",
       "  </thead>\n",
       "  <tbody>\n",
       "    <tr>\n",
       "      <th>0</th>\n",
       "      <td>0</td>\n",
       "      <td>0</td>\n",
       "      <td>0</td>\n",
       "      <td>0</td>\n",
       "    </tr>\n",
       "    <tr>\n",
       "      <th>1</th>\n",
       "      <td>0</td>\n",
       "      <td>0</td>\n",
       "      <td>1</td>\n",
       "      <td>1</td>\n",
       "    </tr>\n",
       "    <tr>\n",
       "      <th>2</th>\n",
       "      <td>0</td>\n",
       "      <td>1</td>\n",
       "      <td>0</td>\n",
       "      <td>0</td>\n",
       "    </tr>\n",
       "    <tr>\n",
       "      <th>3</th>\n",
       "      <td>0</td>\n",
       "      <td>1</td>\n",
       "      <td>1</td>\n",
       "      <td>1</td>\n",
       "    </tr>\n",
       "    <tr>\n",
       "      <th>4</th>\n",
       "      <td>1</td>\n",
       "      <td>0</td>\n",
       "      <td>0</td>\n",
       "      <td>0</td>\n",
       "    </tr>\n",
       "    <tr>\n",
       "      <th>5</th>\n",
       "      <td>1</td>\n",
       "      <td>0</td>\n",
       "      <td>1</td>\n",
       "      <td>1</td>\n",
       "    </tr>\n",
       "    <tr>\n",
       "      <th>6</th>\n",
       "      <td>1</td>\n",
       "      <td>1</td>\n",
       "      <td>0</td>\n",
       "      <td>1</td>\n",
       "    </tr>\n",
       "    <tr>\n",
       "      <th>7</th>\n",
       "      <td>1</td>\n",
       "      <td>1</td>\n",
       "      <td>1</td>\n",
       "      <td>1</td>\n",
       "    </tr>\n",
       "  </tbody>\n",
       "</table>\n",
       "</div>"
      ],
      "text/plain": [
       "   a  b  c  class\n",
       "0  0  0  0      0\n",
       "1  0  0  1      1\n",
       "2  0  1  0      0\n",
       "3  0  1  1      1\n",
       "4  1  0  0      0\n",
       "5  1  0  1      1\n",
       "6  1  1  0      1\n",
       "7  1  1  1      1"
      ]
     },
     "execution_count": 2,
     "metadata": {},
     "output_type": "execute_result"
    }
   ],
   "source": [
    "import pandas as pd\n",
    "import numpy as np\n",
    "\n",
    "a = [0] * 4 + [1] * 4\n",
    "b = (([0] * 2) + [1] * 2) * 2\n",
    "c = [0,1] * 4\n",
    "\n",
    "X_train = pd.DataFrame(np.array([a,b,c]).T, columns = ['a', 'b', 'c'])\n",
    "y_train = X_train.apply(func, axis = 1).rename('class')\n",
    "\n",
    "print(\"The train set is:\")\n",
    "pd.concat([X_train, y_train], axis = 1)\n",
    "\n"
   ]
  },
  {
   "cell_type": "markdown",
   "metadata": {
    "id": "nxA9AYafcNQG"
   },
   "source": [
    "# Test-Set Creation"
   ]
  },
  {
   "cell_type": "markdown",
   "metadata": {
    "id": "_bIczrsvawJn"
   },
   "source": [
    "Now we create a test-set with artificially generated class labels:"
   ]
  },
  {
   "cell_type": "code",
   "execution_count": 3,
   "metadata": {
    "colab": {
     "base_uri": "https://localhost:8080/",
     "height": 237
    },
    "executionInfo": {
     "elapsed": 13,
     "status": "ok",
     "timestamp": 1673019929303,
     "user": {
      "displayName": "maor hornstein",
      "userId": "17964089756049892790"
     },
     "user_tz": -120
    },
    "id": "DgW-3IxEa2kr",
    "outputId": "6e6e857e-dca9-4b20-f1e4-932f4d75ac0d"
   },
   "outputs": [
    {
     "data": {
      "text/html": [
       "<div>\n",
       "<style scoped>\n",
       "    .dataframe tbody tr th:only-of-type {\n",
       "        vertical-align: middle;\n",
       "    }\n",
       "\n",
       "    .dataframe tbody tr th {\n",
       "        vertical-align: top;\n",
       "    }\n",
       "\n",
       "    .dataframe thead th {\n",
       "        text-align: right;\n",
       "    }\n",
       "</style>\n",
       "<table border=\"1\" class=\"dataframe\">\n",
       "  <thead>\n",
       "    <tr style=\"text-align: right;\">\n",
       "      <th></th>\n",
       "      <th>a</th>\n",
       "      <th>b</th>\n",
       "      <th>c</th>\n",
       "      <th>class</th>\n",
       "    </tr>\n",
       "  </thead>\n",
       "  <tbody>\n",
       "    <tr>\n",
       "      <th>0</th>\n",
       "      <td>1</td>\n",
       "      <td>1</td>\n",
       "      <td>0</td>\n",
       "      <td>1</td>\n",
       "    </tr>\n",
       "    <tr>\n",
       "      <th>1</th>\n",
       "      <td>1</td>\n",
       "      <td>0</td>\n",
       "      <td>1</td>\n",
       "      <td>0</td>\n",
       "    </tr>\n",
       "    <tr>\n",
       "      <th>2</th>\n",
       "      <td>1</td>\n",
       "      <td>1</td>\n",
       "      <td>1</td>\n",
       "      <td>0</td>\n",
       "    </tr>\n",
       "    <tr>\n",
       "      <th>3</th>\n",
       "      <td>0</td>\n",
       "      <td>0</td>\n",
       "      <td>0</td>\n",
       "      <td>0</td>\n",
       "    </tr>\n",
       "    <tr>\n",
       "      <th>4</th>\n",
       "      <td>0</td>\n",
       "      <td>1</td>\n",
       "      <td>1</td>\n",
       "      <td>1</td>\n",
       "    </tr>\n",
       "    <tr>\n",
       "      <th>5</th>\n",
       "      <td>1</td>\n",
       "      <td>0</td>\n",
       "      <td>0</td>\n",
       "      <td>1</td>\n",
       "    </tr>\n",
       "  </tbody>\n",
       "</table>\n",
       "</div>"
      ],
      "text/plain": [
       "   a  b  c  class\n",
       "0  1  1  0      1\n",
       "1  1  0  1      0\n",
       "2  1  1  1      0\n",
       "3  0  0  0      0\n",
       "4  0  1  1      1\n",
       "5  1  0  0      1"
      ]
     },
     "execution_count": 3,
     "metadata": {},
     "output_type": "execute_result"
    }
   ],
   "source": [
    "X_test = pd.DataFrame([[1,1,0],[1,0,1],[1,1,1],[0,0,0],[0,1,1],[1,0,0]], columns = ['a','b','c'])\n",
    "y_test = pd.Series([1, 0, 0, 0, 1, 1], name = 'class') \n",
    "\n",
    "test_set = pd.concat([X_test, y_test], axis = 1)\n",
    "test_set"
   ]
  },
  {
   "cell_type": "markdown",
   "metadata": {
    "id": "nUWiNNgqbtG-"
   },
   "source": [
    "We can see than only samples with index 0, 3, and 4 fit the formula while the others (1, 2 and 5) do not:"
   ]
  },
  {
   "cell_type": "code",
   "execution_count": 4,
   "metadata": {
    "colab": {
     "base_uri": "https://localhost:8080/",
     "height": 237
    },
    "executionInfo": {
     "elapsed": 689,
     "status": "ok",
     "timestamp": 1673019929980,
     "user": {
      "displayName": "maor hornstein",
      "userId": "17964089756049892790"
     },
     "user_tz": -120
    },
    "id": "48dayVb7a-xt",
    "outputId": "c8cef901-91df-4eaf-a1f7-6ee63699e691"
   },
   "outputs": [
    {
     "data": {
      "text/html": [
       "<div>\n",
       "<style scoped>\n",
       "    .dataframe tbody tr th:only-of-type {\n",
       "        vertical-align: middle;\n",
       "    }\n",
       "\n",
       "    .dataframe tbody tr th {\n",
       "        vertical-align: top;\n",
       "    }\n",
       "\n",
       "    .dataframe thead th {\n",
       "        text-align: right;\n",
       "    }\n",
       "</style>\n",
       "<table border=\"1\" class=\"dataframe\">\n",
       "  <thead>\n",
       "    <tr style=\"text-align: right;\">\n",
       "      <th></th>\n",
       "      <th>a</th>\n",
       "      <th>b</th>\n",
       "      <th>c</th>\n",
       "      <th>Expected_class</th>\n",
       "      <th>predicted_class</th>\n",
       "      <th>correctly_classified?</th>\n",
       "    </tr>\n",
       "  </thead>\n",
       "  <tbody>\n",
       "    <tr>\n",
       "      <th>0</th>\n",
       "      <td>1</td>\n",
       "      <td>1</td>\n",
       "      <td>0</td>\n",
       "      <td>1</td>\n",
       "      <td>1</td>\n",
       "      <td>True</td>\n",
       "    </tr>\n",
       "    <tr>\n",
       "      <th>1</th>\n",
       "      <td>1</td>\n",
       "      <td>0</td>\n",
       "      <td>1</td>\n",
       "      <td>0</td>\n",
       "      <td>1</td>\n",
       "      <td>False</td>\n",
       "    </tr>\n",
       "    <tr>\n",
       "      <th>2</th>\n",
       "      <td>1</td>\n",
       "      <td>1</td>\n",
       "      <td>1</td>\n",
       "      <td>0</td>\n",
       "      <td>1</td>\n",
       "      <td>False</td>\n",
       "    </tr>\n",
       "    <tr>\n",
       "      <th>3</th>\n",
       "      <td>0</td>\n",
       "      <td>0</td>\n",
       "      <td>0</td>\n",
       "      <td>0</td>\n",
       "      <td>0</td>\n",
       "      <td>True</td>\n",
       "    </tr>\n",
       "    <tr>\n",
       "      <th>4</th>\n",
       "      <td>0</td>\n",
       "      <td>1</td>\n",
       "      <td>1</td>\n",
       "      <td>1</td>\n",
       "      <td>1</td>\n",
       "      <td>True</td>\n",
       "    </tr>\n",
       "    <tr>\n",
       "      <th>5</th>\n",
       "      <td>1</td>\n",
       "      <td>0</td>\n",
       "      <td>0</td>\n",
       "      <td>1</td>\n",
       "      <td>0</td>\n",
       "      <td>False</td>\n",
       "    </tr>\n",
       "  </tbody>\n",
       "</table>\n",
       "</div>"
      ],
      "text/plain": [
       "   a  b  c  Expected_class  predicted_class  correctly_classified?\n",
       "0  1  1  0               1                1                   True\n",
       "1  1  0  1               0                1                  False\n",
       "2  1  1  1               0                1                  False\n",
       "3  0  0  0               0                0                   True\n",
       "4  0  1  1               1                1                   True\n",
       "5  1  0  0               1                0                  False"
      ]
     },
     "execution_count": 4,
     "metadata": {},
     "output_type": "execute_result"
    }
   ],
   "source": [
    "classificaion_result = X_test.apply(func, axis = 1).rename('predicted_class')\n",
    "correctly_classified = (classificaion_result == y_test).rename('correctly_classified?')\n",
    "pd.concat([X_test, y_test.rename('Expected_class'), classificaion_result, correctly_classified], axis = 1)"
   ]
  },
  {
   "cell_type": "markdown",
   "metadata": {
    "id": "uGUffUAIdf95"
   },
   "source": [
    "So, we can see that we have 2 cases:\n",
    "* **1 misclassified as 0:** One sample (5) for which we excpected to get 1 but it was misclassified as 0.\n",
    "* **0 misclassified as 1:** Two samples (1+2) for which we excpected to get 0 but they were misclassified as 1.\n",
    "\n",
    "It is important to note that in both cases it is not the classifier's fault as it was trained on different data."
   ]
  },
  {
   "cell_type": "markdown",
   "metadata": {
    "id": "IWlf33X3cTJN"
   },
   "source": [
    "# Illustrating Misclassifications Using The MAGIC Tool"
   ]
  },
  {
   "cell_type": "markdown",
   "metadata": {
    "id": "5shbh3mZW9P8"
   },
   "source": [
    "First, We will load the MAGIC tool by pressing the following button:"
   ]
  },
  {
   "cell_type": "code",
   "execution_count": 5,
   "metadata": {
    "cellView": "form",
    "id": "SM3jM3eRW0kh"
   },
   "outputs": [],
   "source": [
    "#@title Press the run button to load the MAGIC tool\n",
    "\n",
    "import numpy as np\n",
    "import graphviz\n",
    "import matplotlib.colors as mc\n",
    "import re\n",
    "import pandas as pd\n",
    "from sklearn.tree import DecisionTreeClassifier\n",
    "from PIL import Image\n",
    "\n",
    "import warnings # Suppress warning for this notebook\n",
    "warnings.filterwarnings(\"ignore\")\n",
    "\n",
    "PRESENT_ALL = 'all'\n",
    "PRESENT_VISITED = 'visited'\n",
    "PRESENT_MISCLASSIFIED = 'misclassified'\n",
    "\n",
    "##################\n",
    "## Graphvitz utils\n",
    "\n",
    "replace_words = ['<thead>', '<tbody>', '</thead>', '</tbody>', '\\n', '\\rn', '<table border=\"1\" class=\"dataframe\">',\n",
    "                 '</table>']\n",
    "pattern = '|'.join(replace_words)\n",
    "\n",
    "def dataframe_to_graphviz_table(df):\n",
    "    '''\n",
    "    Translates a html table to graphviz format\n",
    "    references:\n",
    "    https://renenyffenegger.ch/notes/tools/Graphviz/attributes/label/HTML-like/index\n",
    "    https://graphviz.org/Gallery/gradient/table.html\n",
    "    '''\n",
    "    html_table = df.to_html()\n",
    "    return re.sub(pattern, '', html_table).replace('th', 'td').replace('<td>', '<td border=\"1\" bgcolor = \"white\">')\n",
    "\n",
    "def to_graphviz_format(node_header, cm):\n",
    "    cm_table = dataframe_to_graphviz_table(cm)\n",
    "    return '<<table border = \"0\">' \\\n",
    "           '<tr><td border = \"0\" colspan=\"3\"><b>%s</b></td></tr>' \\\n",
    "            '%s' \\\n",
    "           '</table>>' % (node_header, cm_table)\n",
    "\n",
    "####################\n",
    "def create_legend (expected_label, predicted_label, expected_label_color, predicted_label_color):\n",
    "    elc = color_to_hex(expected_label_color)\n",
    "    plc = color_to_hex(predicted_label_color)\n",
    "    return f'<<table border = \"0\">' \\\n",
    "           f'<tr><td border = \"1\" bgcolor= \"{elc}\"> expected label </td> \\\n",
    "                <td border = \"1\" bgcolor= \"{plc}\"> predicted label </td></tr>' \\\n",
    "           f'<tr><td border = \"1\" bgcolor= \"{elc}\"> {expected_label} </td> \\\n",
    "                <td border = \"1\" bgcolor= \"{plc}\"> {predicted_label} </td></tr>' \\\n",
    "           f'</table>>'\n",
    "\n",
    "def create_cm_for_node(tp, fp, tn, fn, true_label, false_label):\n",
    "    if tp == 0 and fp == 0 and tn == 0 and fn == 0:\n",
    "        return None\n",
    "    else:\n",
    "        return pd.DataFrame({false_label: [tn, fn], true_label: [fp, tp]}, index = [false_label,true_label])\n",
    "\n",
    "def get_nodes_visits_count_list(n_nodes, node_indicator, samples_ids):\n",
    "    visits_count = [0] * n_nodes\n",
    "    for sample_id in samples_ids:\n",
    "        # obtain ids of the nodes `sample_id` goes through, i.e., row `sample_id`\n",
    "        node_indexes = node_indicator.indices[\n",
    "                     node_indicator.indptr[sample_id]: node_indicator.indptr[sample_id + 1]\n",
    "                     ]\n",
    "        for node_index in node_indexes:\n",
    "            visits_count[node_index] += 1\n",
    "    return visits_count\n",
    "\n",
    "def color_to_hex(color):\n",
    "    try:\n",
    "        color = mc.cnames[color]\n",
    "    except:\n",
    "        pass\n",
    "    return color\n",
    "\n",
    "def merge_color(first_color, first_color_quantity, second_color, second_color_quantity):\n",
    "    if first_color_quantity == 0 and second_color_quantity == 0:\n",
    "        return 'white'\n",
    "    else:\n",
    "        fc = color_to_hex(first_color)\n",
    "        sc = color_to_hex(second_color)\n",
    "        fc_rgb = tuple(int(fc.lstrip('#')[i:i+2], 16) for i in (0, 2, 4))\n",
    "        sc_rgb = tuple(int(sc.lstrip('#')[i:i+2], 16) for i in (0, 2, 4))\n",
    "        total = first_color_quantity + second_color_quantity\n",
    "        adjusted_r = round((first_color_quantity * fc_rgb[0] + second_color_quantity * sc_rgb[0]) / total)\n",
    "        adjusted_g = round((first_color_quantity * fc_rgb[1] + second_color_quantity * sc_rgb[1]) / total)\n",
    "        adjusted_b = round((first_color_quantity * fc_rgb[2] + second_color_quantity * sc_rgb[2]) / total)\n",
    "        return '#%02x%02x%02x' % (adjusted_r, adjusted_g, adjusted_b)\n",
    "\n",
    "def plot_misclassification_in_tree(clf, X, y, expected_label, predicted_label, expected_label_color, predicted_label_color,\n",
    "                                   show_cm = True, present = PRESENT_ALL):\n",
    "    y = np.array(y)  # Will be easier if y is guaranteed to be of type np array\n",
    "    v = graphviz.Digraph()\n",
    "\n",
    "    v.node(str(-1), create_legend(expected_label, predicted_label, expected_label_color, predicted_label_color),\n",
    "           {'shape': 'component', 'style': 'filled', 'fillcolor': 'white'})\n",
    "\n",
    "    n_nodes = clf.tree_.node_count\n",
    "    children_left = clf.tree_.children_left\n",
    "    children_right = clf.tree_.children_right\n",
    "    feature = clf.tree_.feature\n",
    "    threshold = clf.tree_.threshold\n",
    "\n",
    "    classification = clf.predict(X)\n",
    "    node_indicator = clf.decision_path(X)\n",
    "\n",
    "    # Step 1: check how the true data traverse along the classifier\n",
    "    expected_label_labeled_samples_ids = [i for i in range(len(X)) if y[i] == expected_label]\n",
    "    predicted_label_labeled_samples_ids = [i for i in range(len(X)) if y[i] == predicted_label]\n",
    "\n",
    "    expected_label_labeled_visit_count = get_nodes_visits_count_list(n_nodes, node_indicator, expected_label_labeled_samples_ids)\n",
    "    predicted_label_labeled_visits_count = get_nodes_visits_count_list(n_nodes, node_indicator, predicted_label_labeled_samples_ids)\n",
    "\n",
    "    # Step 2: inspect how the classifier would classify the samples - and create a confusion marix for it.\n",
    "    true_positive_samples_ids = [i for i in range(len(X)) if\n",
    "                                 y[i] == expected_label and classification[i] == expected_label]\n",
    "    false_positive_samples_ids = [i for i in range(len(X)) if\n",
    "                                  y[i] == predicted_label and classification[i] == expected_label]\n",
    "    true_negative_samples_ids = [i for i in range(len(X)) if\n",
    "                                 y[i] == predicted_label and classification[i] == predicted_label]\n",
    "    false_negative_samples_ids = [i for i in range(len(X)) if\n",
    "                                  y[i] == expected_label and classification[i] == predicted_label]\n",
    "\n",
    "    tp_visits_count = get_nodes_visits_count_list(n_nodes, node_indicator, true_positive_samples_ids)\n",
    "    fp_visits_count = get_nodes_visits_count_list(n_nodes, node_indicator, false_positive_samples_ids)\n",
    "    tn_visits_count = get_nodes_visits_count_list(n_nodes, node_indicator, true_negative_samples_ids)\n",
    "    fn_visits_count = get_nodes_visits_count_list(n_nodes, node_indicator, false_negative_samples_ids)\n",
    "\n",
    "    if PRESENT_ALL == present:\n",
    "        nodes_ids_to_plot = range(n_nodes)\n",
    "    elif PRESENT_VISITED == present:\n",
    "        total_visits_count = [sum(x) for x in zip(tp_visits_count, fp_visits_count, tn_visits_count, fn_visits_count)]\n",
    "        nodes_ids_to_plot = [i for i in range(len(total_visits_count)) if total_visits_count[i] > 0]\n",
    "    elif PRESENT_MISCLASSIFIED == present:\n",
    "        nodes_ids_to_plot = [i for i in range(len(fn_visits_count)) if fn_visits_count[i] > 0]\n",
    "    else:\n",
    "        raise Exception('Uknown present value: %s' % present)\n",
    "\n",
    "    for i in nodes_ids_to_plot:\n",
    "        node_id = str(i)\n",
    "\n",
    "        if children_left[i] == children_right[i]: # this is a leaf\n",
    "            label = str(clf.classes_[np.argmax(clf.tree_.value[i])])\n",
    "            if show_cm:\n",
    "                cm = create_cm_for_node(tp_visits_count[i], fp_visits_count[i], tn_visits_count[i], fn_visits_count[i], expected_label, predicted_label)\n",
    "                if cm is None:\n",
    "                    node_content = label\n",
    "                else:\n",
    "                    node_content = to_graphviz_format(label, cm)\n",
    "            else:\n",
    "                node_content = label\n",
    "            peripheries = '2' if fn_visits_count[i] > 0 else '1'\n",
    "            fill_color = merge_color(expected_label_color, expected_label_labeled_visit_count[i], predicted_label_color, predicted_label_labeled_visits_count[i])\n",
    "            v.node(node_id, node_content, {'shape': 'rect', 'style': 'filled', 'fillcolor': fill_color, 'peripheries': peripheries})\n",
    "\n",
    "        else: # this is a split node\n",
    "            node_feature = X.columns[feature[i]]\n",
    "            node_tresshold = threshold[i]\n",
    "\n",
    "            label = str(node_feature)\n",
    "            if show_cm:\n",
    "                cm = create_cm_for_node(tp_visits_count[i], fp_visits_count[i], tn_visits_count[i], fn_visits_count[i], expected_label, predicted_label)\n",
    "                if cm is None:\n",
    "                    node_content = label\n",
    "                else:\n",
    "                    node_content = to_graphviz_format(label, cm)\n",
    "            else:\n",
    "                node_content = label\n",
    "\n",
    "            fill_color = merge_color(expected_label_color, expected_label_labeled_visit_count[i], predicted_label_color, predicted_label_labeled_visits_count[i])\n",
    "            peripheries = '2' if fn_visits_count[i] > 0 else '1'\n",
    "            v.node(node_id, node_content, {'shape': 'rect', 'style': 'filled', 'fillcolor': fill_color, 'peripheries': peripheries})\n",
    "\n",
    "            if children_left[i] in nodes_ids_to_plot:\n",
    "                v.edge(node_id, str(children_left[i]), node_feature + \"<=\" + str(round(node_tresshold, 5)))\n",
    "            if children_right[i] in nodes_ids_to_plot:\n",
    "                v.edge(node_id, str(children_right[i]), node_feature + \">\" + str(round(node_tresshold, 5)))\n",
    "\n",
    "    v.node(str(n_nodes), f'Total misclassification: {len(false_negative_samples_ids)}/{len(X)}',  {'shape': 'underline'}) # TODO replace with existing conut\n",
    "    # v.render(directory='doctest-output', view=True, format='jpeg')\n",
    "    output_path = v.render(format = 'jpg')\n",
    "    im = Image.open(output_path) \n",
    "      \n",
    "    # resize the image for better presentation \n",
    "    width, height = int(im.width / im.height * 600), 600\n",
    "    im_resized = im.resize((width, height))\n",
    "    return clf, im_resized\n",
    "\n",
    "def plot_misclassification(X_train, y_train, X_test, y_test, expected_label, predicted_label, expected_label_color, predicted_label_color,\n",
    "                           show_cm = True, present = PRESENT_ALL, max_depth = None):\n",
    "    # Note: setting random_state to a constant number for deterministic tree creation. See: https://scikit-learn.org/stable/modules/generated/sklearn.tree.DecisionTreeClassifier.html\n",
    "    clf = DecisionTreeClassifier(random_state=42) if max_depth is None else  DecisionTreeClassifier(max_depth=max_depth, random_state=42)\n",
    "    clf.fit(X_train, y_train)\n",
    "    return plot_misclassification_in_tree(clf, X_test, y_test, expected_label, predicted_label, expected_label_color, predicted_label_color, show_cm, present)\n",
    "\n",
    "\n",
    "def extract_decision_predicate_by_path(clf, X):\n",
    "    X_test = X.to_numpy()\n",
    "\n",
    "    feature = clf.tree_.feature\n",
    "    threshold = clf.tree_.threshold\n",
    "\n",
    "    node_indicator = clf.decision_path(X_test)\n",
    "    leaf_id = clf.apply(X_test)\n",
    "    samples_rules_dict = {}\n",
    "\n",
    "    for sample_id in range(len(X)):\n",
    "        rules = []\n",
    "        # obtain ids of the nodes `sample_id` goes through, i.e., row `sample_id`\n",
    "        node_index = node_indicator.indices[\n",
    "                     node_indicator.indptr[sample_id]: node_indicator.indptr[sample_id + 1]\n",
    "                     ]\n",
    "\n",
    "        for node_id in node_index:\n",
    "            # continue to the next node if it is a leaf node\n",
    "            if leaf_id[sample_id] == node_id:\n",
    "                continue\n",
    "\n",
    "            # check if value of the split feature for sample 0 is below threshold\n",
    "            if X_test[sample_id, feature[node_id]] <= threshold[node_id]:\n",
    "                threshold_sign = \"<=\"\n",
    "            else:\n",
    "                threshold_sign = \">\"\n",
    "\n",
    "            rules.append(f'(x[\\'{X.columns[feature[node_id]]}\\'] {threshold_sign} {threshold[node_id]})')\n",
    "\n",
    "        samples_rules_dict[X.index[sample_id]] = \" & \".join(rules)\n",
    "    return samples_rules_dict\n"
   ]
  },
  {
   "cell_type": "markdown",
   "metadata": {
    "id": "h5X7FxKUXTmM"
   },
   "source": [
    "## Case A: 1 Misclassified as 0\n",
    "\n",
    "Let see how the MAGIC tool can illustrate how the data behaved in this case."
   ]
  },
  {
   "cell_type": "markdown",
   "metadata": {
    "id": "GuNj_xXTefJH"
   },
   "source": [
    "For that we have several options:"
   ]
  },
  {
   "cell_type": "markdown",
   "metadata": {
    "id": "lfDPOVOGektm"
   },
   "source": [
    "### Using The MAGIC Tool With Default Values"
   ]
  },
  {
   "cell_type": "code",
   "execution_count": null,
   "metadata": {
    "colab": {
     "base_uri": "https://localhost:8080/",
     "height": 617
    },
    "executionInfo": {
     "elapsed": 22,
     "status": "ok",
     "timestamp": 1673019929983,
     "user": {
      "displayName": "maor hornstein",
      "userId": "17964089756049892790"
     },
     "user_tz": -120
    },
    "id": "E6vHyiYDexnN",
    "outputId": "ae66fe43-676e-4853-fb9b-e652b7228a37"
   },
   "outputs": [],
   "source": [
    "clf, plot = plot_misclassification(X_train, y_train, X_test, y_test, expected_label = 1, predicted_label = 0, \n",
    "                                   expected_label_color = '#9ca5ff', predicted_label_color = '#ff8093',\n",
    "                                   show_cm = True, present = 'all', max_depth = None)\n",
    "plot"
   ]
  },
  {
   "cell_type": "markdown",
   "metadata": {
    "id": "07JTaw_cfxlJ"
   },
   "source": [
    "The above illustrates how the test-data is distributed along the tree:\n",
    "\n",
    "* Nodes to which mostly 0-labeled samples reached are colored with a pinkish shades. \n",
    "* Nodes to which mostly 1-labeld samples reached are colored with blue shades.\n",
    "\n",
    "In each node, a confusion matrix illustrates the distribution of the samples' prediction that passed through it.\n",
    "\n",
    "Nodes that weren't reached by any sample of the test-set do not have a confusion matrix and are colored with white.\n",
    "\n",
    "Nodes to which misclassied data that answer the requirements reached, are marked with a double frame.\n",
    "\n",
    "Pay attention to the legends that assist in the readability of the tree."
   ]
  },
  {
   "cell_type": "markdown",
   "metadata": {
    "id": "XK1HWLhrhN9G"
   },
   "source": [
    "### The `present` Attribute"
   ]
  },
  {
   "cell_type": "markdown",
   "metadata": {
    "id": "vxs9mQxZgXTu"
   },
   "source": [
    "We can use the `present` attribute different options to present only nodes that were relevant for the test-set samples, i.e. remove nodes that weren't reached. \n",
    "\n",
    "This is done by setting the `present` attribute to `visited`:"
   ]
  },
  {
   "cell_type": "code",
   "execution_count": null,
   "metadata": {
    "colab": {
     "base_uri": "https://localhost:8080/",
     "height": 617
    },
    "executionInfo": {
     "elapsed": 1642,
     "status": "ok",
     "timestamp": 1673019931608,
     "user": {
      "displayName": "maor hornstein",
      "userId": "17964089756049892790"
     },
     "user_tz": -120
    },
    "id": "kLVciWykfFdo",
    "outputId": "156cc17f-a5fd-486c-a3a0-5edff8ae193d"
   },
   "outputs": [],
   "source": [
    "clf, plot = plot_misclassification(X_train, y_train, X_test, y_test, expected_label = 1, predicted_label = 0,\n",
    "                                   expected_label_color = '#9ca5ff', predicted_label_color = '#ff8093',\n",
    "                                   show_cm = True, present = 'visited', max_depth = None)\n",
    "plot"
   ]
  },
  {
   "cell_type": "markdown",
   "metadata": {
    "id": "6TCmqYCihTZ2"
   },
   "source": [
    "Setting it to `misclassified` will present only nodes that are relevant to the misclassification:"
   ]
  },
  {
   "cell_type": "code",
   "execution_count": null,
   "metadata": {
    "colab": {
     "base_uri": "https://localhost:8080/",
     "height": 617
    },
    "executionInfo": {
     "elapsed": 68,
     "status": "ok",
     "timestamp": 1673019931609,
     "user": {
      "displayName": "maor hornstein",
      "userId": "17964089756049892790"
     },
     "user_tz": -120
    },
    "id": "0BOsm5tmhM2q",
    "outputId": "07148fcb-0861-45a4-a1c3-729667035051"
   },
   "outputs": [],
   "source": [
    "clf, plot = plot_misclassification(X_train, y_train, X_test, y_test, expected_label = 1, predicted_label = 0, \n",
    "                                   expected_label_color = '#9ca5ff', predicted_label_color = '#ff8093',\n",
    "                                   show_cm = True, present = 'misclassified', max_depth = None)\n",
    "plot"
   ]
  },
  {
   "cell_type": "markdown",
   "metadata": {
    "id": "symvlLAUh5d-"
   },
   "source": [
    "`present` default value is `all` as illustrated in the first plot."
   ]
  },
  {
   "cell_type": "markdown",
   "metadata": {
    "id": "Lmv0XP2ChtPP"
   },
   "source": [
    "### The `show_cm` Attribute"
   ]
  },
  {
   "cell_type": "markdown",
   "metadata": {
    "id": "oNT6QiaThusX"
   },
   "source": [
    "This attribute enables to display (or not to display) the confusion matrix in every node. Its default value is `True` but we can change it to `false`:"
   ]
  },
  {
   "cell_type": "code",
   "execution_count": null,
   "metadata": {
    "colab": {
     "base_uri": "https://localhost:8080/",
     "height": 617
    },
    "executionInfo": {
     "elapsed": 66,
     "status": "ok",
     "timestamp": 1673019931610,
     "user": {
      "displayName": "maor hornstein",
      "userId": "17964089756049892790"
     },
     "user_tz": -120
    },
    "id": "TmhzCsdAhyfO",
    "outputId": "75c1f944-1e60-4fab-ffa8-912d0959470c"
   },
   "outputs": [],
   "source": [
    "clf, plot = plot_misclassification(X_train, y_train, X_test, y_test, expected_label = 1, predicted_label = 0, \n",
    "                                   expected_label_color = '#9ca5ff', predicted_label_color = '#ff8093',\n",
    "                                   show_cm = False, present = 'all', max_depth = None)\n",
    "plot"
   ]
  },
  {
   "cell_type": "markdown",
   "metadata": {
    "id": "E33lGbpkiJD-"
   },
   "source": [
    "This is useful for cases in which we want to focus only on the flow of the data in the tree."
   ]
  },
  {
   "cell_type": "markdown",
   "metadata": {
    "id": "cA7_5Nmqi5-P"
   },
   "source": [
    "### The `max_depth` Attribute"
   ]
  },
  {
   "cell_type": "markdown",
   "metadata": {
    "id": "FngrxNUfjTjJ"
   },
   "source": [
    "Decision tree use a greedy approach to split a given plain into subplains, each consisting of as homogenous labeled-data as possible.\n",
    "\n",
    "By limiting the maximal depth of the tree - one can limit the maximal plain splits."
   ]
  },
  {
   "cell_type": "code",
   "execution_count": null,
   "metadata": {
    "colab": {
     "base_uri": "https://localhost:8080/",
     "height": 617
    },
    "executionInfo": {
     "elapsed": 64,
     "status": "ok",
     "timestamp": 1673019931611,
     "user": {
      "displayName": "maor hornstein",
      "userId": "17964089756049892790"
     },
     "user_tz": -120
    },
    "id": "5Kga2qM8jpd8",
    "outputId": "ab0c59d4-9cee-45b8-baac-9008694dd5ad"
   },
   "outputs": [],
   "source": [
    "clf, plot = plot_misclassification(X_train, y_train, X_test, y_test, expected_label = 1, predicted_label = 0, \n",
    "                                   expected_label_color = '#9ca5ff', predicted_label_color = '#ff8093',\n",
    "                                   show_cm = True, present = 'all', max_depth = 1)\n",
    "plot"
   ]
  },
  {
   "cell_type": "markdown",
   "metadata": {
    "id": "64oKVnuWjo5W"
   },
   "source": [
    "*Note:* the default value of the `max_depth` attribute is `None`, which enables as much splits as possible of the data plain."
   ]
  },
  {
   "cell_type": "markdown",
   "metadata": {
    "id": "CJ384hYqka3k"
   },
   "source": [
    "## Case B: 0 Misclassified as 1"
   ]
  },
  {
   "cell_type": "markdown",
   "metadata": {
    "id": "91k5ZW9HkfPM"
   },
   "source": [
    "We can repeat the same process to analyse cases in which 0 was misclassified as 1."
   ]
  },
  {
   "cell_type": "code",
   "execution_count": null,
   "metadata": {
    "colab": {
     "base_uri": "https://localhost:8080/",
     "height": 617
    },
    "executionInfo": {
     "elapsed": 62,
     "status": "ok",
     "timestamp": 1673019931612,
     "user": {
      "displayName": "maor hornstein",
      "userId": "17964089756049892790"
     },
     "user_tz": -120
    },
    "id": "yYtAIwS_keq0",
    "outputId": "33d198d3-bcde-444c-c61f-952f27e6edf4"
   },
   "outputs": [],
   "source": [
    "clf, plot = plot_misclassification(X_train, y_train, X_test, y_test, expected_label = 0, predicted_label = 1, \n",
    "                                   expected_label_color = '#ff8093', predicted_label_color = '#9ca5ff',\n",
    "                                   show_cm = True, present = 'all', max_depth = None)\n",
    "plot"
   ]
  },
  {
   "cell_type": "markdown",
   "metadata": {
    "id": "MrVkGUCUyWaQ"
   },
   "source": [
    "Here, setting the `present` to `misclassified` can illustrate the path in which the misclassified samples passed through more easily:"
   ]
  },
  {
   "cell_type": "code",
   "execution_count": null,
   "metadata": {
    "colab": {
     "base_uri": "https://localhost:8080/",
     "height": 617
    },
    "executionInfo": {
     "elapsed": 60,
     "status": "ok",
     "timestamp": 1673019931612,
     "user": {
      "displayName": "maor hornstein",
      "userId": "17964089756049892790"
     },
     "user_tz": -120
    },
    "id": "dxlYAHMIyjuc",
    "outputId": "36661f92-93b8-43dc-b9f9-a988ae01d76c"
   },
   "outputs": [],
   "source": [
    "clf, plot = plot_misclassification(X_train, y_train, X_test, y_test, expected_label = 0, predicted_label = 1, \n",
    "                                   expected_label_color = '#ff8093', predicted_label_color = '#9ca5ff',\n",
    "                                   show_cm = True, present = 'misclassified', max_depth = None)\n",
    "plot"
   ]
  },
  {
   "cell_type": "markdown",
   "metadata": {
    "id": "5Fm2GCDskqkf"
   },
   "source": [
    "## The Returned Values: `clf` and `plot`"
   ]
  },
  {
   "cell_type": "markdown",
   "metadata": {
    "id": "Qntz0ebnkySf"
   },
   "source": [
    "As illustrated above, the plot_misclassification method returns two values:\n",
    "* `clf` - the underlying representation of the decision tree. This is useful in case the datascientist wants to further investigate and examine the resulting tree.\n",
    "* `plot` - an image of the plot."
   ]
  },
  {
   "cell_type": "markdown",
   "metadata": {
    "id": "9IGfyha8KMLx"
   },
   "source": [
    "# The `extract_decision_predicate_by_path` Function"
   ]
  },
  {
   "cell_type": "markdown",
   "metadata": {
    "id": "aR4j-TMZKNg_"
   },
   "source": [
    "As part of the MAGIC toolkit, I also provided the `extract_decision_predicate_by_path` function. this function gets a tree classifier and a test-set, and extracts for each of the samples the relevant predicate according to their classification path along the tree.\n"
   ]
  },
  {
   "cell_type": "code",
   "execution_count": null,
   "metadata": {
    "colab": {
     "base_uri": "https://localhost:8080/"
    },
    "executionInfo": {
     "elapsed": 59,
     "status": "ok",
     "timestamp": 1673019931613,
     "user": {
      "displayName": "maor hornstein",
      "userId": "17964089756049892790"
     },
     "user_tz": -120
    },
    "id": "cACQCrGvKzqC",
    "outputId": "025c356f-0bcf-4ccc-cd52-0f98b79e903b"
   },
   "outputs": [],
   "source": [
    "predicate = extract_decision_predicate_by_path(clf, pd.DataFrame([[1,1,0]], columns = ['a','b','c']))\n",
    "\n",
    "predicate"
   ]
  },
  {
   "cell_type": "markdown",
   "metadata": {
    "id": "TlttrJhOLhJ7"
   },
   "source": [
    "As we can see, the *c* value of the sample with index 0 is less then 0.5 and its *b* and *a* values are bigger then 0.5. That was the path the sample made along the MAGIC tool's tree."
   ]
  },
  {
   "cell_type": "markdown",
   "metadata": {
    "id": "Dz472IFXLyeN"
   },
   "source": [
    "If we use the test-set in extract_decision_predicate_by_path we will get:"
   ]
  },
  {
   "cell_type": "code",
   "execution_count": null,
   "metadata": {
    "colab": {
     "base_uri": "https://localhost:8080/"
    },
    "executionInfo": {
     "elapsed": 56,
     "status": "ok",
     "timestamp": 1673019931613,
     "user": {
      "displayName": "maor hornstein",
      "userId": "17964089756049892790"
     },
     "user_tz": -120
    },
    "id": "DXlmopZeK6ja",
    "outputId": "0919aada-dea6-4d70-b539-531319e0eb84"
   },
   "outputs": [],
   "source": [
    "test_set_predicates = extract_decision_predicate_by_path(clf, X_test)\n",
    "\n",
    "test_set_predicates"
   ]
  },
  {
   "cell_type": "markdown",
   "metadata": {
    "id": "hF2FXayhMPyg"
   },
   "source": [
    "Here, samples 1, 2 and 4 share the same path along the tree. let's take a look at them:"
   ]
  },
  {
   "cell_type": "code",
   "execution_count": null,
   "metadata": {
    "colab": {
     "base_uri": "https://localhost:8080/",
     "height": 143
    },
    "executionInfo": {
     "elapsed": 54,
     "status": "ok",
     "timestamp": 1673019931614,
     "user": {
      "displayName": "maor hornstein",
      "userId": "17964089756049892790"
     },
     "user_tz": -120
    },
    "id": "PigORe9TMHIa",
    "outputId": "406d81bb-7698-4a90-ab6a-88516c747296"
   },
   "outputs": [],
   "source": [
    "X_test.iloc[[1,2,4]]"
   ]
  },
  {
   "cell_type": "markdown",
   "metadata": {
    "id": "DpZrvLieMfaD"
   },
   "source": [
    "Last, we can use lambda function with the relevant predicate to fetch all the samples that were classified in the same manner as a given sample. For example, for sample 1:"
   ]
  },
  {
   "cell_type": "code",
   "execution_count": null,
   "metadata": {
    "colab": {
     "base_uri": "https://localhost:8080/",
     "height": 143
    },
    "executionInfo": {
     "elapsed": 53,
     "status": "ok",
     "timestamp": 1673019931614,
     "user": {
      "displayName": "maor hornstein",
      "userId": "17964089756049892790"
     },
     "user_tz": -120
    },
    "id": "fye3EjACMb1_",
    "outputId": "22877bb0-da62-43b0-a168-63776ce379a5"
   },
   "outputs": [],
   "source": [
    "predicate_func = eval('lambda x: ' + test_set_predicates[1])\n",
    "\n",
    "X_test[predicate_func]"
   ]
  },
  {
   "cell_type": "markdown",
   "metadata": {
    "id": "WJ3kWfobNB79"
   },
   "source": [
    "And for sample 3:"
   ]
  },
  {
   "cell_type": "code",
   "execution_count": null,
   "metadata": {
    "colab": {
     "base_uri": "https://localhost:8080/",
     "height": 112
    },
    "executionInfo": {
     "elapsed": 53,
     "status": "ok",
     "timestamp": 1673019931615,
     "user": {
      "displayName": "maor hornstein",
      "userId": "17964089756049892790"
     },
     "user_tz": -120
    },
    "id": "RXMouliFNE9S",
    "outputId": "8b563b79-1cfd-4743-8c2b-fff831a588e5"
   },
   "outputs": [],
   "source": [
    "predicate_func = eval('lambda x: ' + test_set_predicates[3])\n",
    "\n",
    "X_test[predicate_func]"
   ]
  },
  {
   "cell_type": "markdown",
   "metadata": {
    "id": "wrUL1D3GZSGE"
   },
   "source": [
    "# Brief Real World Example"
   ]
  },
  {
   "cell_type": "markdown",
   "metadata": {
    "id": "kG9Ito1mZWs1"
   },
   "source": [
    "To illustrate how the MAGIC tool works for real-world examples, I'll use the [Stroke Prediction Dataset](https://www.kaggle.com/datasets/fedesoriano/stroke-prediction-dataset)."
   ]
  },
  {
   "cell_type": "code",
   "execution_count": null,
   "metadata": {
    "id": "f1F7cIBGaDnu"
   },
   "outputs": [],
   "source": [
    "import numpy as np\n",
    "import pandas as pd\n",
    "import matplotlib.pyplot as plt\n",
    "import seaborn as sns\n",
    "from sklearn.neighbors import KNeighborsClassifier\n",
    "from sklearn.model_selection import train_test_split\n",
    "from sklearn.preprocessing import MinMaxScaler\n",
    "from sklearn.metrics import classification_report, confusion_matrix\n",
    "\n",
    "df = pd.read_csv(\"./data/healthcare-dataset-stroke-data.csv\")"
   ]
  },
  {
   "cell_type": "markdown",
   "metadata": {
    "id": "N_wfq1TsZpWw"
   },
   "source": [
    "I will first clean the data: \n",
    "* Remove one sample with unique gender value - *Other*.\n",
    "* Remove irrelevant *id* attribute.\n",
    "* Use one-hot encoded values for categorial attributes: gender, ever_married, Residence_type, work_type and smoking_status.\n",
    "* Fill missing values of bmi with the mean value."
   ]
  },
  {
   "cell_type": "code",
   "execution_count": null,
   "metadata": {
    "colab": {
     "base_uri": "https://localhost:8080/",
     "height": 287
    },
    "executionInfo": {
     "elapsed": 34,
     "status": "ok",
     "timestamp": 1673019932761,
     "user": {
      "displayName": "maor hornstein",
      "userId": "17964089756049892790"
     },
     "user_tz": -120
    },
    "id": "nEff5Efvac7J",
    "outputId": "a40f4fa5-9262-4ed4-91a5-abeda634599b"
   },
   "outputs": [],
   "source": [
    "# Remove one sample with gender value of *Other*\n",
    "df.drop(df[df['gender']=='Other'].index, inplace=True)\n",
    "\n",
    "# Remove irrelevant id attribute.\n",
    "df.drop([\"id\"], axis=1, inplace = True)\n",
    "\n",
    "# Use one-hot encoded values for categorial attributes\n",
    "df['gender'] = df['gender'].replace({'Male':0, 'Female':1})\n",
    "df['ever_married'] = df['ever_married'].replace({'No':0, 'Yes':1})\n",
    "df[\"Residence_type\"] = df['Residence_type'].replace({'Rural':0, 'Urban':1})\n",
    "\n",
    "work_type_dummies = pd.get_dummies(df['work_type'],drop_first=False)\n",
    "smoking_status_dummies = pd.get_dummies(df['smoking_status'],drop_first=False)\n",
    "df = pd.concat([df, work_type_dummies, smoking_status_dummies],axis=1)\n",
    "df.drop([\"smoking_status\", \"work_type\"], axis=1, inplace = True)\n",
    "\n",
    "# Fill missing values of bmi with the mean value\n",
    "df['bmi'].fillna(value=df['bmi'].mean(), inplace=True)\n",
    "\n",
    "df.head()"
   ]
  },
  {
   "cell_type": "markdown",
   "metadata": {
    "id": "OBsXWSO1cCuo"
   },
   "source": [
    "As the data is not balances and contains only 249 patients who had strokes and 4860 that didn't, I will randomally choose 200 samples from each group."
   ]
  },
  {
   "cell_type": "code",
   "execution_count": null,
   "metadata": {
    "colab": {
     "base_uri": "https://localhost:8080/"
    },
    "executionInfo": {
     "elapsed": 32,
     "status": "ok",
     "timestamp": 1673019932762,
     "user": {
      "displayName": "maor hornstein",
      "userId": "17964089756049892790"
     },
     "user_tz": -120
    },
    "id": "KCL5SxLjcnsf",
    "outputId": "0b4c23cc-8b1e-434a-bafb-87579b26df9b"
   },
   "outputs": [],
   "source": [
    "print(\"The target class distribution is:\")\n",
    "print(df['stroke'].value_counts())\n",
    "print()\n",
    "\n",
    "shuffled_df = df.sample(frac=1, random_state=42)\n",
    "df1 = pd.concat([shuffled_df[shuffled_df['stroke'] == 0][:200], shuffled_df[shuffled_df['stroke'] == 1][:200]])\n",
    "print(\"The target class distribution in the updated dataset is:\")\n",
    "print(df1['stroke'].value_counts())"
   ]
  },
  {
   "cell_type": "markdown",
   "metadata": {
    "id": "aNLI3gb9dMK3"
   },
   "source": [
    "Now, we can split the data to train and test and use the MAGIC tool."
   ]
  },
  {
   "cell_type": "code",
   "execution_count": null,
   "metadata": {
    "id": "Fo_Br1qZdQYO"
   },
   "outputs": [],
   "source": [
    "X = df1.drop(['stroke'],axis=1)\n",
    "y = df1['stroke']\n",
    "\n",
    "X_train, X_test, y_train, y_test = train_test_split(X,y,test_size=0.20,random_state=42)"
   ]
  },
  {
   "cell_type": "code",
   "execution_count": null,
   "metadata": {
    "colab": {
     "base_uri": "https://localhost:8080/",
     "height": 487
    },
    "executionInfo": {
     "elapsed": 30,
     "status": "ok",
     "timestamp": 1673019932767,
     "user": {
      "displayName": "maor hornstein",
      "userId": "17964089756049892790"
     },
     "user_tz": -120
    },
    "id": "ventEnyNdQi5",
    "outputId": "a73ef1e9-4295-42a5-b7ee-79b6152994a9"
   },
   "outputs": [],
   "source": [
    "clf, plot = plot_misclassification(X_train, y_train, X_test, y_test, expected_label = 0, predicted_label = 1, expected_label_color = '#ff8093', predicted_label_color = '#9ca5ff',\n",
    "                                   show_cm = True, present = 'all', max_depth = 4)\n",
    "plot"
   ]
  },
  {
   "cell_type": "markdown",
   "metadata": {
    "id": "_ulMTA6UNGzs"
   },
   "source": [
    "# Conclusion"
   ]
  },
  {
   "cell_type": "markdown",
   "metadata": {
    "id": "rjTEez-LNJNH"
   },
   "source": [
    "The MAGIC tool is a vast tool as it enables the data-scientist to choose and present different views of the data after splitting it to subplains.\n",
    "\n",
    "It also contains the `extract_decision_predicate_by_path` function that assists in extracting samples' predicate from the MAGIC tool to further analyse them."
   ]
  },
  {
   "cell_type": "markdown",
   "metadata": {
    "id": "oAxj25JvpOHw"
   },
   "source": [
    "<hr>"
   ]
  },
  {
   "cell_type": "markdown",
   "metadata": {
    "id": "mnbZRz9Vn7Au"
   },
   "source": [
    "#Appendix: Illustrations For The Questionnaire"
   ]
  },
  {
   "cell_type": "markdown",
   "metadata": {
    "id": "U7JXbLJFn7sO"
   },
   "source": [
    "I used the above Stroke dataset example in the instructions of the questionnaire. \n",
    "\n",
    "As its sole purpose is demonstration, I \"tweaked\" it a bit to make the visual part more clear."
   ]
  },
  {
   "cell_type": "markdown",
   "metadata": {
    "id": "XS-XJj5n0aCc"
   },
   "source": [
    "## The MAGIC Tool Illustraion"
   ]
  },
  {
   "cell_type": "markdown",
   "metadata": {
    "id": "uR3RO87T0PaY"
   },
   "source": [
    "\n",
    "I used a tree with depth 3 for the MAGIC tool demonstration:"
   ]
  },
  {
   "cell_type": "code",
   "execution_count": null,
   "metadata": {
    "colab": {
     "base_uri": "https://localhost:8080/",
     "height": 573
    },
    "executionInfo": {
     "elapsed": 1266,
     "status": "ok",
     "timestamp": 1673023024962,
     "user": {
      "displayName": "maor hornstein",
      "userId": "17964089756049892790"
     },
     "user_tz": -120
    },
    "id": "cmpV8vQ1oTfl",
    "outputId": "01ce1227-1a19-4198-d0b0-6bd5523c86c8"
   },
   "outputs": [],
   "source": [
    "clf, plot = plot_misclassification(X_train, y_train, X_test, y_test, expected_label = 0, predicted_label = 1, expected_label_color = '#ff8093', predicted_label_color = '#9ca5ff',\n",
    "                                   show_cm = True, present = 'all', max_depth = 3)\n",
    "plot"
   ]
  },
  {
   "cell_type": "markdown",
   "metadata": {
    "id": "gbbEFT0t0hPJ"
   },
   "source": [
    "## The Scatter Plot Illustration"
   ]
  },
  {
   "cell_type": "markdown",
   "metadata": {
    "id": "jeheXpRfoXf9"
   },
   "source": [
    "For the Scatter plot, I randomally chose to use the KNN classifier:"
   ]
  },
  {
   "cell_type": "markdown",
   "metadata": {
    "id": "-OHEtiaJp7zY"
   },
   "source": [
    "### 1. Create KNN Classifier With Best Performance"
   ]
  },
  {
   "cell_type": "code",
   "execution_count": null,
   "metadata": {
    "id": "jBvPPqj_oVFp"
   },
   "outputs": [],
   "source": [
    "import seaborn as sns\n",
    "import matplotlib.pyplot as plt\n",
    "from sklearn.neighbors import KNeighborsClassifier\n",
    "from sklearn.model_selection import GridSearchCV\n",
    "\n",
    "parameters = {\n",
    "              'algorithm': ['ball_tree', 'kd_tree', 'brute'],\n",
    "              'n_neighbors': [3,5,7,9],    \n",
    "              'weights' : ['uniform', 'distance']              \n",
    "             }\n",
    "knn11 = GridSearchCV(KNeighborsClassifier(), parameters, cv=5)\n",
    "knn11.fit(X_train, y_train)\n",
    "\n",
    "knn = KNeighborsClassifier(algorithm = knn11.best_params_['algorithm'],\n",
    "                           n_neighbors =  knn11.best_params_['n_neighbors'],\n",
    "                           weights = knn11.best_params_['weights'])\n",
    "\n",
    "knn.fit(X_train, y_train);"
   ]
  },
  {
   "cell_type": "markdown",
   "metadata": {
    "id": "mmb0ulgTqB8H"
   },
   "source": [
    "## 2. Plot The Classifier's Misclassification Using a Scatter Plot"
   ]
  },
  {
   "cell_type": "code",
   "execution_count": null,
   "metadata": {
    "id": "DNXs6n_KqMAO"
   },
   "outputs": [],
   "source": [
    "predicions = knn.predict(X_test)\n",
    "misclassification_index = [i for i in range(len(X_test)) if predicions[i] == 1 and y_test.iloc[i] == 0]"
   ]
  },
  {
   "cell_type": "code",
   "execution_count": null,
   "metadata": {
    "id": "E4zJI98RqGKw"
   },
   "outputs": [],
   "source": [
    "df1 = pd.concat([X, y], axis = 1) # I used X and y to enhance the visualization\n",
    "misclassified_samples = X_test.iloc[misclassification_index].copy(deep = True)\n",
    "misclassified_samples['stroke'] = '0 misclassified as 1'\n",
    "\n",
    "df1 = pd.concat([df1, misclassified_samples], axis = 0)"
   ]
  },
  {
   "cell_type": "markdown",
   "metadata": {
    "id": "L4sDf94w01xs"
   },
   "source": [
    "For the final Scatter plot I randomally chose the *age* and *avg_glucose_level* attributes:"
   ]
  },
  {
   "cell_type": "code",
   "execution_count": null,
   "metadata": {
    "colab": {
     "base_uri": "https://localhost:8080/",
     "height": 297
    },
    "executionInfo": {
     "elapsed": 1625,
     "status": "ok",
     "timestamp": 1673023348876,
     "user": {
      "displayName": "maor hornstein",
      "userId": "17964089756049892790"
     },
     "user_tz": -120
    },
    "id": "OsUhFcKGqg4k",
    "outputId": "45002357-057a-41ad-b085-5d93ffbc0651"
   },
   "outputs": [],
   "source": [
    "sns.scatterplot(data = df1[['age', 'avg_glucose_level', 'stroke']], x = 'age', y = 'avg_glucose_level', hue=\"stroke\", palette = {0: '#ff8093', 1: '#9ca5ff', '0 misclassified as 1': 'black'})"
   ]
  }
 ],
 "metadata": {
  "colab": {
   "authorship_tag": "ABX9TyNyT+FUKjnk3orln1VF/jyC",
   "mount_file_id": "1coqC7wT36i1OPfrsv0c9pRHbM8v5FFMU",
   "provenance": []
  },
  "kernelspec": {
   "display_name": "Python 3 (ipykernel)",
   "language": "python",
   "name": "python3"
  },
  "language_info": {
   "codemirror_mode": {
    "name": "ipython",
    "version": 3
   },
   "file_extension": ".py",
   "mimetype": "text/x-python",
   "name": "python",
   "nbconvert_exporter": "python",
   "pygments_lexer": "ipython3",
   "version": "3.10.6"
  }
 },
 "nbformat": 4,
 "nbformat_minor": 1
}
